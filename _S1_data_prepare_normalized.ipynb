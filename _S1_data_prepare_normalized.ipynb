{
 "cells": [
  {
   "cell_type": "code",
   "execution_count": 1,
   "metadata": {},
   "outputs": [],
   "source": [
    "import os\n",
    "import nibabel as nib\n",
    "import numpy as np\n",
    "from scipy import ndimage\n",
    "import glob"
   ]
  },
  {
   "cell_type": "code",
   "execution_count": 2,
   "metadata": {},
   "outputs": [],
   "source": [
    "class nii_process:\n",
    "    def __init__(self, base_):\n",
    "        self.base_ = base_\n",
    "        self.volume = np.array([])\n",
    "    \n",
    "    def slice_normalize(self, volume):\n",
    "        # print(volume.shape)\n",
    "        img_o = np.float32(volume.copy())\n",
    "        for i in range(self.slice_n):\n",
    "            img_o = np.float32(volume[...,i].copy())\n",
    "            m = np.mean(img_o)\n",
    "            s = np.std(img_o)\n",
    "            volume[...,i] = np.divide((img_o - m), s)\n",
    "        print(np.max(volume[...,i]), np.min(volume[...,i]))\n",
    "        # volume = np.divide(volume, np.percentile(volume,98))\n",
    "        self.image = volume.astype('float32')\n",
    "\n",
    "    def normalize(self, volume):\n",
    "        img_o = np.float32(volume.copy())\n",
    "        m = np.mean(img_o)\n",
    "        s = np.std(img_o)\n",
    "        volume = np.divide((img_o - m), s)\n",
    "        image = volume.astype(\"float32\")\n",
    "        return image\n",
    "    \n",
    "    def process_scan(self, dstype, imgtype,path):\n",
    "\n",
    "        image_o = nib.load(path)\n",
    "        affine = image_o.header.get_best_affine()\n",
    "\n",
    "        if len(image_o.shape) == 4:\n",
    "            image = image_o.get_fdata()\n",
    "            width,height,queue,_ = image.shape\n",
    "            image = image[:,:,:,1]\n",
    "            image = np.reshape(image,(width,height,queue))\n",
    "            adjusted_dwi = nib.Nifti1Image(image.astype(np.uint16), affine)\n",
    "        else:\n",
    "            image = image_o.get_fdata()\n",
    "            pass\n",
    "        self.slice_n = image.shape[-1]\n",
    "        if imgtype=='image':\n",
    "            image = self.normalize(image)\n",
    "        nii_name_slices = (os.path.split(path))\n",
    "        nii_name_slices = nii_name_slices[1].split('.')[0]\n",
    "        # print(nii_name_slices)\n",
    "        # print(image_o.shape)\n",
    "        for i in range(self.slice_n):\n",
    "            # print(image[...,i].shape)\n",
    "            adjusted_seg = nib.Nifti1Image(image[...,i], affine)\n",
    "            adjusted_seg.header['pixdim'] = image_o.header['pixdim']\n",
    "            # Save as NiBabel file\n",
    "            adjusted_seg.to_filename(os.path.join(self.base_, dstype, imgtype,f'{nii_name_slices[0:-1]}_{i+1}.nii.gz'))"
   ]
  },
  {
   "cell_type": "code",
   "execution_count": 3,
   "metadata": {},
   "outputs": [
    {
     "name": "stdout",
     "output_type": "stream",
     "text": [
      "310\n",
      "72\n",
      "90\n"
     ]
    }
   ],
   "source": [
    "# all nii image transfer single slice image (20,384,384) - > 20,(384,384)\n",
    "prepare_data = nii_process('./dataset/normalized_zscore/')\n",
    "process_stack = ['train','valid', 'test']\n",
    "for i in process_stack:\n",
    "    _list = sorted(os.listdir(os.path.join('./dataset/original_data/', i)))\n",
    "    _len = len(_list)\n",
    "    print(_len)\n",
    "    for j in range(0, _len, 2):\n",
    "        prepare_data.process_scan(i, 'image',f'./dataset/original_data/{i}/{_list[j]}')\n",
    "        prepare_data.process_scan(i, 'masks',f'./dataset/original_data/{i}/{_list[j+1]}')"
   ]
  },
  {
   "cell_type": "code",
   "execution_count": 4,
   "metadata": {},
   "outputs": [],
   "source": [
    "# from intensity_normalization.normalize.fcm import FCMNormalize\n",
    "# from intensity_normalization.normalize.zscore import ZScoreNormalize\n",
    "# from tqdm import tqdm\n",
    "# path_in = \"./dataset/original_data/\"\n",
    "# save_path_ = './dataset/rawdata_fcm/'\n",
    "# process_stack = ['train','valid']\n",
    "# for i in process_stack:\n",
    "#     count=0\n",
    "#     _list = sorted(os.listdir(os.path.join(path_in, i)))\n",
    "#     _len = len(_list)\n",
    "#     for j in tqdm(range(0, _len, 2)):\n",
    "#         count+=1\n",
    "#         image = nib.load(os.path.join(path_in, i, _list[j]))  # assume skull-stripped otherwise load mask too\n",
    "#         fcm_norm = FCMNormalize()\n",
    "#         normalized = fcm_norm(image) # alternatively, you can pass in a numpy array which will return a numpy array\n",
    "#         normalized.to_filename(os.path.join(save_path_, i, _list[j]))  # this works if you passed in a nibabel Nifti image\n",
    "#     print(i, count)"
   ]
  }
 ],
 "metadata": {
  "interpreter": {
   "hash": "a9a9f6540bf554a35b2c82ffc2252af7952963494c5548299b5ab247ef9e2099"
  },
  "kernelspec": {
   "display_name": "Python 3.7.9 64-bit ('MNI-SGD': conda)",
   "name": "python3"
  },
  "language_info": {
   "codemirror_mode": {
    "name": "ipython",
    "version": 3
   },
   "file_extension": ".py",
   "mimetype": "text/x-python",
   "name": "python",
   "nbconvert_exporter": "python",
   "pygments_lexer": "ipython3",
   "version": "3.8.0"
  },
  "orig_nbformat": 4
 },
 "nbformat": 4,
 "nbformat_minor": 2
}
