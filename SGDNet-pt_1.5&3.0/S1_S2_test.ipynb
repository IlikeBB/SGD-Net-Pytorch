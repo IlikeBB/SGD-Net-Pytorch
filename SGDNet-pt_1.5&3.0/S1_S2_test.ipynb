{
 "cells": [
  {
   "cell_type": "code",
   "execution_count": 1,
   "metadata": {},
   "outputs": [
    {
     "data": {
      "text/plain": [
       "<torch._C.Generator at 0x7f0eb7b30350>"
      ]
     },
     "execution_count": 1,
     "metadata": {},
     "output_type": "execute_result"
    }
   ],
   "source": [
    "import numpy as np, torch, os, glob, nibabel as nib, multiprocessing, pandas as pd\n",
    "import torch.backends.cudnn as cudnn, torchio as tio, random\n",
    "import segmentation_models_pytorch as smp\n",
    "import torch.backends.cudnn as cudnn\n",
    "import matplotlib.pyplot as plt\n",
    "import albumentations as A\n",
    "from sklearn.metrics import *\n",
    "from utils.model_res import generate_model\n",
    "from albumentations.pytorch import ToTensorV2\n",
    "from torch.utils.data import DataLoader\n",
    "from scipy import ndimage\n",
    "from tqdm import tqdm   \n",
    "\n",
    "num_workers = multiprocessing.cpu_count()\n",
    "os.environ[\"CUDA_VISIBLE_DEVICES\"] = \"0\"\n",
    "device = torch.device(\"cuda\" if torch.cuda.is_available() else \"cpu\")\n",
    "cudnn.benchmark = True\n",
    "random.seed(1234)\n",
    "torch.manual_seed(1234)"
   ]
  },
  {
   "cell_type": "code",
   "execution_count": 2,
   "metadata": {},
   "outputs": [],
   "source": [
    "# load csv label\n",
    "if True:\n",
    "    csv_path = './20211104_label_1-350.csv'\n",
    "    table =  pd.read_csv(csv_path)\n",
    "    table_3t = table[table['1/0: 3T/1.5T MRI']==1.0]\n",
    "    table_3t_test = table_3t[table_3t['Valid data']=='V']\n",
    "    table_3t_test = np.array(table_3t_test[table_3t_test['排除']=='Test data'])\n",
    "    nii_3t_test = sorted([i for i in os.listdir(os.path.join('./dataset/S2_data/','test'))])"
   ]
  },
  {
   "cell_type": "code",
   "execution_count": 3,
   "metadata": {},
   "outputs": [],
   "source": [
    "# Subject Function Building\n",
    "def tio_process(nii_3t_, table_3t_, basepath_='./dataset/S2_data/train/'):\n",
    "    subjects_ = []\n",
    "    for  (nii_path, nii_table) in zip(nii_3t_ , table_3t_):\n",
    "        if (params['S2_type']=='ap') and (nii_table[3]=='A' or nii_table[3]=='P'):\n",
    "            subject = tio.Subject(\n",
    "                dwi = tio.ScalarImage(os.path.join(basepath_, nii_path)), \n",
    "                ap = nii_table[3], \n",
    "                score=[])\n",
    "            subjects_.append(subject)\n",
    "        elif (params['S2_type']=='nl'):\n",
    "            subject = tio.Subject(\n",
    "                dwi = tio.ScalarImage(os.path.join(basepath_, nii_path)), \n",
    "                nl  = nii_table[4], \n",
    "                score=[])\n",
    "            subjects_.append(subject)\n",
    "    return subjects_\n"
   ]
  },
  {
   "cell_type": "code",
   "execution_count": null,
   "metadata": {},
   "outputs": [],
   "source": [
    "def S1_evaluate(model, valid_loader):\n",
    "    predict_array = []\n",
    "    model.eval()\n",
    "    stream = tqdm(valid_loader)\n",
    "    with torch.no_grad():\n",
    "        for i, (images, target) in enumerate(stream, start=1):\n",
    "            images = images.to('cpu')\n",
    "            target = target.to('cpu')\n",
    "            output =  model(images).squeeze(1)\n",
    "            predict_array.append(output.detach().numpy()>0.3)\n",
    "    return 0\n",
    "\n",
    "def S2_evaluate():\n",
    "\n",
    "    return 0\n",
    "\n",
    "S1_weight = './checkpoint/2021.11.03.t1 - 2DRes18Unet/best-2DRes18Unet - lr_0.003 - DCEL.pt'\n",
    "S2_weight_ap = './checkpoint/2021.11.11.t6 - 3DResNet18 - ap/best - ap - 3dresnet18 - lr_0.001 - CE.pt'\n",
    "S2_weight_nl = './checkpoint/2021.11.10.t4 - 3DResNet18 - nl/best - nl - 3dresnet18 - lr_0.003 - CE.pt'\n",
    "\n",
    "S1_checkpoint = torch.load(S1_weight, map_location=torch.device('cpu'))\n",
    "S1_model = smp.Unet(encoder_name='resnet18', encoder_weights=None, in_channels=1, classes=1)\n",
    "S1_model.load_state_dict(S1_checkpoint['model_state_dict'])\n",
    "S1_model.to('cpu')\n",
    "for idx, i in enumerate(['ap', 'nl']):\n",
    "    params = {\"S1_type\": None, \"S2_type\": i}\n",
    "    test_subjects = tio_process(nii_3t_test, table_3t_test, basepath_ = './dataset/S2_data/test/')\n",
    "    S1_evaluate()\n",
    "    S2_evaluate()\n",
    "\n"
   ]
  },
  {
   "cell_type": "code",
   "execution_count": null,
   "metadata": {},
   "outputs": [],
   "source": []
  }
 ],
 "metadata": {
  "interpreter": {
   "hash": "c7173b66b0b7b9d3ef17108453430ecf43b59c5f40b531d440cd8bb0e5f91238"
  },
  "kernelspec": {
   "display_name": "Python 3.8.0 64-bit ('torch-SGD': conda)",
   "language": "python",
   "name": "python3"
  },
  "language_info": {
   "codemirror_mode": {
    "name": "ipython",
    "version": 3
   },
   "file_extension": ".py",
   "mimetype": "text/x-python",
   "name": "python",
   "nbconvert_exporter": "python",
   "pygments_lexer": "ipython3",
   "version": "3.8.0"
  },
  "orig_nbformat": 4
 },
 "nbformat": 4,
 "nbformat_minor": 2
}
